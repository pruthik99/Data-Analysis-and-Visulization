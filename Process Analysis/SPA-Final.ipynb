{
 "cells": [
  {
   "cell_type": "code",
   "execution_count": 1,
   "id": "a7f53d37",
   "metadata": {
    "ExecuteTime": {
     "end_time": "2022-02-13T15:45:18.324686Z",
     "start_time": "2022-02-13T15:45:14.340460Z"
    },
    "scrolled": true
   },
   "outputs": [],
   "source": [
    "from pm4py.objects.conversion.log import converter as xes_converter\n",
    "from pm4py.objects.log.importer.xes import importer as xes_importer\n",
    "import pandas as pd\n",
    "import seaborn as sns"
   ]
  },
  {
   "cell_type": "code",
   "execution_count": 2,
   "id": "a15873bf",
   "metadata": {
    "ExecuteTime": {
     "end_time": "2022-02-13T15:45:50.252327Z",
     "start_time": "2022-02-13T15:45:18.326712Z"
    }
   },
   "outputs": [
    {
     "data": {
      "application/vnd.jupyter.widget-view+json": {
       "model_id": "0b0a6dd25dd44e6e9a1c652c1289e1e4",
       "version_major": 2,
       "version_minor": 0
      },
      "text/plain": [
       "parsing log, completed traces ::   0%|          | 0/42995 [00:00<?, ?it/s]"
      ]
     },
     "metadata": {},
     "output_type": "display_data"
    }
   ],
   "source": [
    "log = xes_importer.apply('BPI Challenge 2017 - Offer log.xes')\n",
    "df = xes_converter.apply(log, variant=xes_converter.Variants.TO_DATA_FRAME)\n"
   ]
  },
  {
   "cell_type": "code",
   "execution_count": 3,
   "id": "8a0a73a6",
   "metadata": {
    "ExecuteTime": {
     "end_time": "2022-02-13T15:45:50.427859Z",
     "start_time": "2022-02-13T15:45:50.255319Z"
    },
    "scrolled": true
   },
   "outputs": [
    {
     "data": {
      "text/html": [
       "<div>\n",
       "<style scoped>\n",
       "    .dataframe tbody tr th:only-of-type {\n",
       "        vertical-align: middle;\n",
       "    }\n",
       "\n",
       "    .dataframe tbody tr th {\n",
       "        vertical-align: top;\n",
       "    }\n",
       "\n",
       "    .dataframe thead th {\n",
       "        text-align: right;\n",
       "    }\n",
       "</style>\n",
       "<table border=\"1\" class=\"dataframe\">\n",
       "  <thead>\n",
       "    <tr style=\"text-align: right;\">\n",
       "      <th></th>\n",
       "      <th>Action</th>\n",
       "      <th>org:resource</th>\n",
       "      <th>concept:name</th>\n",
       "      <th>EventOrigin</th>\n",
       "      <th>EventID</th>\n",
       "      <th>lifecycle:transition</th>\n",
       "      <th>time:timestamp</th>\n",
       "      <th>case:concept:name</th>\n",
       "      <th>case:MonthlyCost</th>\n",
       "      <th>case:Selected</th>\n",
       "      <th>case:ApplicationID</th>\n",
       "      <th>case:FirstWithdrawalAmount</th>\n",
       "      <th>case:CreditScore</th>\n",
       "      <th>case:OfferedAmount</th>\n",
       "      <th>case:NumberOfTerms</th>\n",
       "      <th>case:Accepted</th>\n",
       "      <th>OfferID</th>\n",
       "    </tr>\n",
       "  </thead>\n",
       "  <tbody>\n",
       "    <tr>\n",
       "      <th>0</th>\n",
       "      <td>Created</td>\n",
       "      <td>User_17</td>\n",
       "      <td>O_Create Offer</td>\n",
       "      <td>Offer</td>\n",
       "      <td>Offer_247135719</td>\n",
       "      <td>complete</td>\n",
       "      <td>2016-01-02 09:17:05.720000+00:00</td>\n",
       "      <td>Offer_247135719</td>\n",
       "      <td>201.76</td>\n",
       "      <td>False</td>\n",
       "      <td>Application_196483749</td>\n",
       "      <td>10000.0</td>\n",
       "      <td>0</td>\n",
       "      <td>10000.0</td>\n",
       "      <td>57</td>\n",
       "      <td>True</td>\n",
       "      <td>NaN</td>\n",
       "    </tr>\n",
       "    <tr>\n",
       "      <th>1</th>\n",
       "      <td>statechange</td>\n",
       "      <td>User_17</td>\n",
       "      <td>O_Created</td>\n",
       "      <td>Offer</td>\n",
       "      <td>OfferState_124849367</td>\n",
       "      <td>complete</td>\n",
       "      <td>2016-01-02 09:17:08.762000+00:00</td>\n",
       "      <td>Offer_247135719</td>\n",
       "      <td>201.76</td>\n",
       "      <td>False</td>\n",
       "      <td>Application_196483749</td>\n",
       "      <td>10000.0</td>\n",
       "      <td>0</td>\n",
       "      <td>10000.0</td>\n",
       "      <td>57</td>\n",
       "      <td>True</td>\n",
       "      <td>Offer_247135719</td>\n",
       "    </tr>\n",
       "    <tr>\n",
       "      <th>2</th>\n",
       "      <td>statechange</td>\n",
       "      <td>User_17</td>\n",
       "      <td>O_Sent (online only)</td>\n",
       "      <td>Offer</td>\n",
       "      <td>OfferState_440662877</td>\n",
       "      <td>complete</td>\n",
       "      <td>2016-01-02 09:19:21.330000+00:00</td>\n",
       "      <td>Offer_247135719</td>\n",
       "      <td>201.76</td>\n",
       "      <td>False</td>\n",
       "      <td>Application_196483749</td>\n",
       "      <td>10000.0</td>\n",
       "      <td>0</td>\n",
       "      <td>10000.0</td>\n",
       "      <td>57</td>\n",
       "      <td>True</td>\n",
       "      <td>Offer_247135719</td>\n",
       "    </tr>\n",
       "    <tr>\n",
       "      <th>3</th>\n",
       "      <td>statechange</td>\n",
       "      <td>User_17</td>\n",
       "      <td>O_Cancelled</td>\n",
       "      <td>Offer</td>\n",
       "      <td>OfferState_591416028</td>\n",
       "      <td>complete</td>\n",
       "      <td>2016-01-02 09:21:26.034000+00:00</td>\n",
       "      <td>Offer_247135719</td>\n",
       "      <td>201.76</td>\n",
       "      <td>False</td>\n",
       "      <td>Application_196483749</td>\n",
       "      <td>10000.0</td>\n",
       "      <td>0</td>\n",
       "      <td>10000.0</td>\n",
       "      <td>57</td>\n",
       "      <td>True</td>\n",
       "      <td>Offer_247135719</td>\n",
       "    </tr>\n",
       "    <tr>\n",
       "      <th>4</th>\n",
       "      <td>Created</td>\n",
       "      <td>User_17</td>\n",
       "      <td>O_Create Offer</td>\n",
       "      <td>Offer</td>\n",
       "      <td>Offer_941964966</td>\n",
       "      <td>complete</td>\n",
       "      <td>2016-01-02 09:21:42.022000+00:00</td>\n",
       "      <td>Offer_941964966</td>\n",
       "      <td>201.76</td>\n",
       "      <td>False</td>\n",
       "      <td>Application_196483749</td>\n",
       "      <td>4100.0</td>\n",
       "      <td>0</td>\n",
       "      <td>10000.0</td>\n",
       "      <td>57</td>\n",
       "      <td>True</td>\n",
       "      <td>NaN</td>\n",
       "    </tr>\n",
       "  </tbody>\n",
       "</table>\n",
       "</div>"
      ],
      "text/plain": [
       "        Action org:resource          concept:name EventOrigin  \\\n",
       "0      Created      User_17        O_Create Offer       Offer   \n",
       "1  statechange      User_17             O_Created       Offer   \n",
       "2  statechange      User_17  O_Sent (online only)       Offer   \n",
       "3  statechange      User_17           O_Cancelled       Offer   \n",
       "4      Created      User_17        O_Create Offer       Offer   \n",
       "\n",
       "                EventID lifecycle:transition                   time:timestamp  \\\n",
       "0       Offer_247135719             complete 2016-01-02 09:17:05.720000+00:00   \n",
       "1  OfferState_124849367             complete 2016-01-02 09:17:08.762000+00:00   \n",
       "2  OfferState_440662877             complete 2016-01-02 09:19:21.330000+00:00   \n",
       "3  OfferState_591416028             complete 2016-01-02 09:21:26.034000+00:00   \n",
       "4       Offer_941964966             complete 2016-01-02 09:21:42.022000+00:00   \n",
       "\n",
       "  case:concept:name  case:MonthlyCost  case:Selected     case:ApplicationID  \\\n",
       "0   Offer_247135719            201.76          False  Application_196483749   \n",
       "1   Offer_247135719            201.76          False  Application_196483749   \n",
       "2   Offer_247135719            201.76          False  Application_196483749   \n",
       "3   Offer_247135719            201.76          False  Application_196483749   \n",
       "4   Offer_941964966            201.76          False  Application_196483749   \n",
       "\n",
       "   case:FirstWithdrawalAmount  case:CreditScore  case:OfferedAmount  \\\n",
       "0                     10000.0                 0             10000.0   \n",
       "1                     10000.0                 0             10000.0   \n",
       "2                     10000.0                 0             10000.0   \n",
       "3                     10000.0                 0             10000.0   \n",
       "4                      4100.0                 0             10000.0   \n",
       "\n",
       "   case:NumberOfTerms  case:Accepted          OfferID  \n",
       "0                  57           True              NaN  \n",
       "1                  57           True  Offer_247135719  \n",
       "2                  57           True  Offer_247135719  \n",
       "3                  57           True  Offer_247135719  \n",
       "4                  57           True              NaN  "
      ]
     },
     "execution_count": 3,
     "metadata": {},
     "output_type": "execute_result"
    }
   ],
   "source": [
    "df = df.sort_values(by = 'time:timestamp')\n",
    "df.head(5)\n"
   ]
  },
  {
   "cell_type": "code",
   "execution_count": 4,
   "id": "b6b7e482",
   "metadata": {
    "ExecuteTime": {
     "end_time": "2022-02-13T15:46:03.044795Z",
     "start_time": "2022-02-13T15:45:50.430850Z"
    }
   },
   "outputs": [],
   "source": [
    "#135694\n",
    "# Parsing transaction from dataframe \n",
    "# All the transaction are  in the 'transaction' list\n",
    "def parse_data(df) :\n",
    "    table = {}\n",
    "    transaction = []\n",
    "    for index,row in df.iterrows():\n",
    "        if row['case:Accepted'] == False :\n",
    "            continue\n",
    "        if row['Action'] == 'Created' :\n",
    "            if row['org:resource'] in table :\n",
    "                transaction.append(table[row['org:resource']])\n",
    "                del table[row['org:resource']]\n",
    "            table[row['org:resource']] = [];\n",
    "            table[row['org:resource']].append(row['concept:name'])\n",
    "        else :\n",
    "            if row['org:resource'] in table :\n",
    "                table[row['org:resource']].append(row['concept:name'])\n",
    "                if row['concept:name'] == 'O_Cancelled' or row['concept:name'] == 'O_Accepted' or row['concept:name'] == 'O_Refused' : \n",
    "                    transaction.append(table[row['org:resource']])\n",
    "                    del table[row['org:resource']]\n",
    "\n",
    "\n",
    "    for key, value in table.items() :\n",
    "        transaction.append(value)\n",
    "\n",
    "\n",
    "    for i in range(len(transaction)) :\n",
    "        j = 0\n",
    "        temp = []\n",
    "        while(j < len(transaction[i])) :\n",
    "            if(j == 0 or transaction[i][j] != transaction[i][j - 1]) :\n",
    "                temp.append(transaction[i][j])\n",
    "            j += 1\n",
    "        transaction[i] = temp\n",
    "    return transaction\n",
    "\n",
    "def feed_into_the_model(model, seq, last_event) :\n",
    "    h = str(seq)\n",
    "    if not h in model:\n",
    "        if len(seq) != 0 :\n",
    "            model[h] = {}\n",
    "            model[h][last_event] = 1\n",
    "    else :\n",
    "        if last_event in model[h] :\n",
    "            model[h][last_event] = model[h][last_event] + 1\n",
    "        else :\n",
    "            model[h][last_event] = 1    \n",
    "\n",
    "O(n * 5 * 5)\n",
    "def create_model(transaction) :\n",
    "    model = {}\n",
    "    for i in range(0, len(transaction)) :\n",
    "        for j in range(0, len(transaction[i])) :\n",
    "            seq = []\n",
    "            for k in range(j, len(transaction[i])) :\n",
    "                feed_into_the_model(model, seq, transaction[i][k])\n",
    "                seq.append(transaction[i][k])\n",
    "            feed_into_the_model(model, seq, 'End')\n",
    "    return model\n",
    "\n",
    "transaction = parse_data(df)\n",
    "model = create_model(transaction)\n",
    "\n",
    "\n",
    "\n",
    "            \n"
   ]
  },
  {
   "cell_type": "code",
   "execution_count": 8,
   "id": "ab63772e",
   "metadata": {
    "ExecuteTime": {
     "end_time": "2022-02-13T15:46:03.092669Z",
     "start_time": "2022-02-13T15:46:03.048787Z"
    },
    "scrolled": true
   },
   "outputs": [
    {
     "name": "stdout",
     "output_type": "stream",
     "text": [
      "probability matrix\n",
      "1 gram :[['O_Accepted', 0.6219512195121951], ['End', 0.18292682926829268], ['O_Refused', 0.13414634146341464], ['O_Cancelled', 0.06097560975609756]]\n",
      "\n",
      "2 gram :[['O_Accepted', 0.5833333333333334], ['End', 0.3055555555555556], ['O_Refused', 0.027777777777777776], ['O_Cancelled', 0.08333333333333333]]\n",
      "\n",
      "3 gram :[['O_Accepted', 0.5833333333333334], ['End', 0.3055555555555556], ['O_Refused', 0.027777777777777776], ['O_Cancelled', 0.08333333333333333]]\n",
      "\n",
      "4 gram :[['O_Accepted', 0.5833333333333334], ['End', 0.3055555555555556], ['O_Refused', 0.027777777777777776], ['O_Cancelled', 0.08333333333333333]]\n",
      "\n",
      "predictions\n",
      "1 gram : O_Accepted\n",
      "2 gram : O_Accepted\n",
      "3 gram : O_Accepted\n",
      "4 gram : O_Accepted\n"
     ]
    }
   ],
   "source": [
    "# \n",
    "\n",
    "def evaluate_matrix(seq) :\n",
    "    possible = {}\n",
    "    last_state = '[' + '\\'' + str(seq[len(seq) - 1]) + '\\'' + ']'\n",
    "    mp = model[last_state]\n",
    "    for key in mp :\n",
    "        if not key in possible :\n",
    "            possible[key] = True\n",
    "    i = len(seq) - 1\n",
    "    matrix = []\n",
    "    while(i >= 0) :\n",
    "        ngram_seq = seq[i : len(seq)]\n",
    "        ngram_seq = str(ngram_seq)\n",
    "        matrix.append([])\n",
    "        idx = len(matrix) - 1\n",
    "        denom = 0\n",
    "        if ngram_seq in model :\n",
    "            for key in possible :\n",
    "                if key in model[ngram_seq] :\n",
    "                    denom += model[ngram_seq][key]\n",
    "            for key in possible :\n",
    "                if key in model[ngram_seq] :\n",
    "                    matrix[idx].append([key, model[ngram_seq][key] / denom])\n",
    "                else :\n",
    "                    matrix[idx].append([key, 0.0])\n",
    "        else :\n",
    "            for key in possible :\n",
    "                matrix[idx].append([key, 0.0])\n",
    "        i -= 1\n",
    "    print('probability matrix')\n",
    "    for i in range(len(matrix)) :\n",
    "        print(str(i + 1) + ' gram :', end = '')\n",
    "        print(matrix[i])\n",
    "        print()\n",
    "    #return matrix\n",
    "\n",
    "def get_prediction(seq) :\n",
    "    possible = {}\n",
    "    last_state = '[' + '\\'' + str(seq[len(seq) - 1]) + '\\'' + ']'\n",
    "    mp = model[last_state]\n",
    "    for key in mp :\n",
    "        if not key in possible :\n",
    "            possible[key] = True\n",
    "    i = len(seq) - 1\n",
    "    next_probable = []\n",
    "    while(i >= 0) :\n",
    "        ngram_seq = seq[i : len(seq)]\n",
    "        ngram_seq = str(ngram_seq)\n",
    "        denom = 0\n",
    "        prediction = \"None\"\n",
    "        max_prob = 0\n",
    "        if ngram_seq in model :\n",
    "            for key in possible :\n",
    "                if key in model[ngram_seq] :\n",
    "                    p = model[ngram_seq][key]\n",
    "                    if p > max_prob :\n",
    "                        max_prob = p\n",
    "                        prediction = key\n",
    "        next_probable.append(prediction)\n",
    "        i -= 1\n",
    "    print('predictions')\n",
    "    for i in range(0, len(next_probable)) :\n",
    "        print(str(i + 1) + ' gram : ' + next_probable[i])\n",
    "                \n",
    "        \n",
    "seq = ['O_Create Offer', 'O_Created','O_Sent (mail and online)', 'O_Returned']\n",
    "#seq = ['O_Create Offer', 'O_Created']\n",
    "#print(model[str(seq)])\n",
    "#print(seq)\n",
    "evaluate_matrix(seq)\n",
    "get_prediction(seq)"
   ]
  },
  {
   "cell_type": "code",
   "execution_count": 21,
   "id": "0465a1fb",
   "metadata": {
    "ExecuteTime": {
     "end_time": "2022-02-13T15:46:03.184422Z",
     "start_time": "2022-02-13T15:46:03.098652Z"
    },
    "scrolled": true
   },
   "outputs": [
    {
     "name": "stdout",
     "output_type": "stream",
     "text": [
      "1 gram :[['End', 0.8543115942028986], ['O_Sent (mail and online)', 0.08076086956521739], ['O_Cancelled', 0.059130434782608696], ['O_Returned', 0.0013043478260869566], ['O_Accepted', 0.0012318840579710144], ['O_Refused', 0.002572463768115942], ['O_Sent (online only)', 0.0006884057971014493]]\n",
      "\n",
      "2 gram :[['End', 0.0], ['O_Sent (mail and online)', 0.5545356371490281], ['O_Cancelled', 0.4030777537796976], ['O_Returned', 0.0091792656587473], ['O_Accepted', 0.0091792656587473], ['O_Refused', 0.018898488120950324], ['O_Sent (online only)', 0.0051295896328293735]]\n",
      "\n",
      "3 gram :[['End', 0.0], ['O_Sent (mail and online)', 0.5545356371490281], ['O_Cancelled', 0.4030777537796976], ['O_Returned', 0.0091792656587473], ['O_Accepted', 0.0091792656587473], ['O_Refused', 0.018898488120950324], ['O_Sent (online only)', 0.0051295896328293735]]\n",
      "\n"
     ]
    }
   ],
   "source": [
    "x = evaluate_matrix(seq)"
   ]
  },
  {
   "cell_type": "code",
   "execution_count": 7,
   "id": "024e5da7",
   "metadata": {
    "ExecuteTime": {
     "end_time": "2022-02-13T15:46:03.293585Z",
     "start_time": "2022-02-13T15:46:03.186417Z"
    },
    "scrolled": true
   },
   "outputs": [
    {
     "name": "stdout",
     "output_type": "stream",
     "text": [
      "[['O_Accepted', 0.6219512195121951], ['End', 0.18292682926829268], ['O_Refused', 0.13414634146341464], ['O_Cancelled', 0.06097560975609756]]\n",
      "[['O_Accepted', 0.5833333333333334], ['End', 0.3055555555555556], ['O_Refused', 0.027777777777777776], ['O_Cancelled', 0.08333333333333333]]\n",
      "[['O_Accepted', 0.5833333333333334], ['End', 0.3055555555555556], ['O_Refused', 0.027777777777777776], ['O_Cancelled', 0.08333333333333333]]\n",
      "[['O_Accepted', 0.5833333333333334], ['End', 0.3055555555555556], ['O_Refused', 0.027777777777777776], ['O_Cancelled', 0.08333333333333333]]\n"
     ]
    }
   ],
   "source": [
    "# create empty dataframe\n",
    "temp = pd.DataFrame()\n",
    "\n",
    "#assign matrix values to dataframe\n",
    "for i in range(len(x)):\n",
    "    print(x[i])\n",
    "    temp= temp.append(pd.DataFrame(x[i]))"
   ]
  },
  {
   "cell_type": "code",
   "execution_count": 8,
   "id": "209293c6",
   "metadata": {
    "ExecuteTime": {
     "end_time": "2022-02-13T15:46:03.371382Z",
     "start_time": "2022-02-13T15:46:03.297573Z"
    },
    "scrolled": true
   },
   "outputs": [],
   "source": [
    "#rename columns \n",
    "temp.columns = ['Event', 'Prob_Val']"
   ]
  },
  {
   "cell_type": "markdown",
   "id": "44299abb",
   "metadata": {},
   "source": [
    "# Plot 1-N Gram"
   ]
  },
  {
   "cell_type": "code",
   "execution_count": 9,
   "id": "d8289406",
   "metadata": {
    "ExecuteTime": {
     "end_time": "2022-02-13T15:46:03.653176Z",
     "start_time": "2022-02-13T15:46:03.376372Z"
    },
    "scrolled": true
   },
   "outputs": [
    {
     "data": {
      "text/plain": [
       "[Text(0.5, 1.0, \"sequence = ['O_Create Offer', 'O_Created','O_Sent (mail and online)','O_Returned']\")]"
      ]
     },
     "execution_count": 9,
     "metadata": {},
     "output_type": "execute_result"
    },
    {
     "data": {
      "image/png": "[encoded data removed]",
      "text/plain": [
       "<Figure size 432x288 with 1 Axes>"
      ]
     },
     "metadata": {
      "needs_background": "light"
     },
     "output_type": "display_data"
    }
   ],
   "source": [
    "sns.scatterplot(x = 'Event', y ='Prob_Val', data = temp[0:4]).set(title=\"sequence = ['O_Create Offer', 'O_Created','O_Sent (mail and online)','O_Returned']\")"
   ]
  },
  {
   "cell_type": "markdown",
   "id": "d6fba28a",
   "metadata": {},
   "source": [
    "# Plot 2-N Gram"
   ]
  },
  {
   "cell_type": "code",
   "execution_count": 10,
   "id": "6458822b",
   "metadata": {
    "ExecuteTime": {
     "end_time": "2022-02-13T15:46:03.827713Z",
     "start_time": "2022-02-13T15:46:03.655174Z"
    },
    "scrolled": true
   },
   "outputs": [
    {
     "data": {
      "text/plain": [
       "[Text(0.5, 1.0, \"sequence = ['O_Create Offer', 'O_Created','O_Sent (mail and online)','O_Returned']\")]"
      ]
     },
     "execution_count": 10,
     "metadata": {},
     "output_type": "execute_result"
    },
    {
     "data": {
      "image/png": "[encoded data removed]",
      "text/plain": [
       "<Figure size 432x288 with 1 Axes>"
      ]
     },
     "metadata": {
      "needs_background": "light"
     },
     "output_type": "display_data"
    }
   ],
   "source": [
    "sns.scatterplot(x = 'Event', y ='Prob_Val', data = temp[4:8]).set(title=\"sequence = ['O_Create Offer', 'O_Created','O_Sent (mail and online)','O_Returned']\")"
   ]
  },
  {
   "cell_type": "markdown",
   "id": "66e43abd",
   "metadata": {},
   "source": [
    "# Plot 3-N Gram"
   ]
  },
  {
   "cell_type": "code",
   "execution_count": 11,
   "id": "13c72e3c",
   "metadata": {
    "ExecuteTime": {
     "end_time": "2022-02-13T15:46:03.999254Z",
     "start_time": "2022-02-13T15:46:03.829708Z"
    }
   },
   "outputs": [
    {
     "data": {
      "text/plain": [
       "[Text(0.5, 1.0, \"sequence = ['O_Create Offer', 'O_Created','O_Sent (mail and online)','O_Returned']\")]"
      ]
     },
     "execution_count": 11,
     "metadata": {},
     "output_type": "execute_result"
    },
    {
     "data": {
      "image/png": "[encoded data removed]",
      "text/plain": [
       "<Figure size 432x288 with 1 Axes>"
      ]
     },
     "metadata": {
      "needs_background": "light"
     },
     "output_type": "display_data"
    }
   ],
   "source": [
    "sns.scatterplot(x = 'Event', y ='Prob_Val', data = temp[8:12]).set(title=\"sequence = ['O_Create Offer', 'O_Created','O_Sent (mail and online)','O_Returned']\")"
   ]
  },
  {
   "cell_type": "markdown",
   "id": "54c5bd9d",
   "metadata": {},
   "source": [
    "# Plot 4-N Gram"
   ]
  },
  {
   "cell_type": "code",
   "execution_count": 12,
   "id": "c0bbfa59",
   "metadata": {},
   "outputs": [
    {
     "data": {
      "text/plain": [
       "[Text(0.5, 1.0, \"sequence = ['O_Create Offer', 'O_Created','O_Sent (mail and online)','O_Returned']\")]"
      ]
     },
     "execution_count": 12,
     "metadata": {},
     "output_type": "execute_result"
    },
    {
     "data": {
      "image/png": "[encoded data removed]",
      "text/plain": [
       "<Figure size 432x288 with 1 Axes>"
      ]
     },
     "metadata": {
      "needs_background": "light"
     },
     "output_type": "display_data"
    }
   ],
   "source": [
    "sns.scatterplot(x = 'Event', y ='Prob_Val', data = temp[12:16]).set(title=\"sequence = ['O_Create Offer', 'O_Created','O_Sent (mail and online)','O_Returned']\")"
   ]
  },
  {
   "cell_type": "code",
   "execution_count": null,
   "id": "dc68314a",
   "metadata": {},
   "outputs": [],
   "source": []
  }
 ],
 "metadata": {
  "kernelspec": {
   "display_name": "Python 3 (ipykernel)",
   "language": "python",
   "name": "python3"
  },
  "language_info": {
   "codemirror_mode": {
    "name": "ipython",
    "version": 3
   },
   "file_extension": ".py",
   "mimetype": "text/x-python",
   "name": "python",
   "nbconvert_exporter": "python",
   "pygments_lexer": "ipython3",
   "version": "3.9.7"
  },
  "toc": {
   "base_numbering": 1,
   "nav_menu": {},
   "number_sections": true,
   "sideBar": true,
   "skip_h1_title": false,
   "title_cell": "Table of Contents",
   "title_sidebar": "Contents",
   "toc_cell": false,
   "toc_position": {},
   "toc_section_display": true,
   "toc_window_display": false
  },
  "varInspector": {
   "cols": {
    "lenName": 16,
    "lenType": 16,
    "lenVar": 40
   },
   "kernels_config": {
    "python": {
     "delete_cmd_postfix": "",
     "delete_cmd_prefix": "del ",
     "library": "var_list.py",
     "varRefreshCmd": "print(var_dic_list())"
    },
    "r": {
     "delete_cmd_postfix": ") ",
     "delete_cmd_prefix": "rm(",
     "library": "var_list.r",
     "varRefreshCmd": "cat(var_dic_list()) "
    }
   },
   "types_to_exclude": [
    "module",
    "function",
    "builtin_function_or_method",
    "instance",
    "_Feature"
   ],
   "window_display": false
  }
 },
 "nbformat": 4,
 "nbformat_minor": 5
}
